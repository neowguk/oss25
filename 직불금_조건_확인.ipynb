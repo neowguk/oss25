{
  "nbformat": 4,
  "nbformat_minor": 0,
  "metadata": {
    "colab": {
      "provenance": [],
      "authorship_tag": "ABX9TyP+/TkxZ0OLw5Pj2fIBbCxc",
      "include_colab_link": true
    },
    "kernelspec": {
      "name": "python3",
      "display_name": "Python 3"
    },
    "language_info": {
      "name": "python"
    }
  },
  "cells": [
    {
      "cell_type": "markdown",
      "metadata": {
        "id": "view-in-github",
        "colab_type": "text"
      },
      "source": [
        "<a href=\"https://colab.research.google.com/github/neowguk/oss25/blob/main/%EC%A7%81%EB%B6%88%EA%B8%88_%EC%A1%B0%EA%B1%B4_%ED%99%95%EC%9D%B8.ipynb\" target=\"_parent\"><img src=\"https://colab.research.google.com/assets/colab-badge.svg\" alt=\"Open In Colab\"/></a>"
      ]
    },
    {
      "cell_type": "markdown",
      "source": [
        "#직불금 조건 확인"
      ],
      "metadata": {
        "id": "FG72mnCZKngC"
      }
    },
    {
      "cell_type": "markdown",
      "source": [
        "본 프로젝트는 많은 농사짓는분들이 자기가 해당사항이 되는지 안되는지 모르기떄문에 쉽게 확인하기 위해서 만들었습니다."
      ],
      "metadata": {
        "id": "mvMZoOLGKx7L"
      }
    },
    {
      "cell_type": "markdown",
      "source": [
        "#구현하기"
      ],
      "metadata": {
        "id": "-mWXkSfuRagI"
      }
    },
    {
      "cell_type": "code",
      "execution_count": 2,
      "metadata": {
        "colab": {
          "base_uri": "https://localhost:8080/"
        },
        "id": "jqRsr8XtKlnm",
        "outputId": "5367ea54-ea39-47c4-d66d-649f41ab0914"
      },
      "outputs": [
        {
          "output_type": "stream",
          "name": "stdout",
          "text": [
            "거주 지역을 입력하세요: 사하구\n",
            "사하구 사는 사람은 신청이 가능합니다.\n"
          ]
        }
      ],
      "source": [
        "def check_eligibility():\n",
        "    region = input(\"거주 지역을 입력하세요: \")\n",
        "\n",
        "    if region == \"사하구\":\n",
        "        print(\"사하구 사는 사람은 신청이 가능합니다.\")\n",
        "    else:\n",
        "        try:\n",
        "            area = float(input(\"평수를 입력하세요: \"))\n",
        "            if area >= 100 or area >= 150:  # 100평 이상 또는 150평(0.5헥타르) 이상이면 신청 가능\n",
        "                print(\"신청이 가능합니다.\")\n",
        "            else:\n",
        "                print(\"신청이 불가능합니다.\")\n",
        "        except ValueError:\n",
        "            print(\"올바른 숫자를 입력하세요.\")\n",
        "\n",
        "check_eligibility()"
      ]
    }
  ]
}